import os
import json
import pandas as pd

# Define data directory
data_dir = "C:/Users/colte/lhl-mt/data/"

# List all JSON files in the directory
json_files = [f for f in os.listdir(data_dir) if f.endswith(".json")]

# Create an empty list to store DataFrames
dfs = []

# Loop through each JSON file and load data
for file in json_files:
    file_path = os.path.join(data_dir, file)
    
    with open(file_path, "r") as f:
        data = json.load(f)

    # Extract the 'results' field inside 'data'
    if "data" in data and "results" in data["data"]:
        df = pd.DataFrame(data["data"]["results"])
        dfs.append(df)  # Store DataFrame in list
        print(f"Loaded {file} - Shape: {df.shape}")
    else:
        print(f"Skipping {file}, no 'results' field found.")

# Combine all DataFrames into one
if dfs:
    df = pd.concat(dfs, ignore_index=True)
    print("Final Combined DataFrame Shape:", df.shape)
else:
    print("No valid JSON files found.")

# Display first few rows
df.head()


tags = df["tags"].tolist()





import pandas as pd

def encode_primary_photo(df):
    """
    Converts the 'primary_photo' column into a binary (True/False) column 
    based on whether an href exists.

    Args:
        df (pandas.DataFrame): The input DataFrame containing 'primary_photo'.

    Returns:
        pandas.DataFrame: Modified DataFrame with 'has_primary_photo' column.
    """
    if 'primary_photo' not in df:
        print("Warning: 'primary_photo' column not found in DataFrame.")
        return df  # Return unchanged if the column is missing

    # Create a new binary column: True if 'href' exists, False otherwise
    df['has_primary_photo'] = df['primary_photo'].apply(lambda x: isinstance(x, dict) and 'href' in x)

    # Drop the original 'primary_photo' column
    df = df.drop(columns=['primary_photo'])

    return df

encoded_df = encode_primary_photo(encoded_df)
encoded_df.head()



